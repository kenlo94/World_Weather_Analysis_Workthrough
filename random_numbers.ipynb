{
 "cells": [
  {
   "cell_type": "code",
   "execution_count": 2,
   "id": "6c5af4c0",
   "metadata": {},
   "outputs": [],
   "source": [
    "# Import the random module.\n",
    "import random"
   ]
  },
  {
   "cell_type": "code",
   "execution_count": 3,
   "id": "67af59a5",
   "metadata": {},
   "outputs": [
    {
     "data": {
      "text/plain": [
       "19"
      ]
     },
     "execution_count": 3,
     "metadata": {},
     "output_type": "execute_result"
    }
   ],
   "source": [
    "random.randint(-90, 90)"
   ]
  },
  {
   "cell_type": "code",
   "execution_count": 4,
   "id": "f7ad82e2",
   "metadata": {},
   "outputs": [
    {
     "data": {
      "text/plain": [
       "0.8966900858846679"
      ]
     },
     "execution_count": 4,
     "metadata": {},
     "output_type": "execute_result"
    }
   ],
   "source": [
    "random.random()"
   ]
  },
  {
   "cell_type": "code",
   "execution_count": 6,
   "id": "e6e8c8c9",
   "metadata": {},
   "outputs": [
    {
     "data": {
      "text/plain": [
       "23.24865951956128"
      ]
     },
     "execution_count": 6,
     "metadata": {},
     "output_type": "execute_result"
    }
   ],
   "source": [
    "random_number = random.randint(-90,89) + random.random()\n",
    "random_number"
   ]
  },
  {
   "cell_type": "code",
   "execution_count": 7,
   "id": "4ce9e792",
   "metadata": {},
   "outputs": [],
   "source": [
    "x = 1\n",
    "latitudes = []\n",
    "while x < 11:\n",
    "    random_lat = random.randint(-90, 89) + random.random()\n",
    "    latitudes.append(random_lat)\n",
    "    x += 1"
   ]
  },
  {
   "cell_type": "code",
   "execution_count": 8,
   "id": "90374244",
   "metadata": {},
   "outputs": [
    {
     "data": {
      "text/plain": [
       "[-17.173930643645107,\n",
       " -44.96901971345922,\n",
       " 42.374353204503045,\n",
       " -85.53881518144597,\n",
       " 60.659284835732706,\n",
       " 18.03978170008946,\n",
       " 5.532476412165739,\n",
       " -22.003825449910448,\n",
       " 50.4888122106974,\n",
       " 48.38040737339066]"
      ]
     },
     "execution_count": 8,
     "metadata": {},
     "output_type": "execute_result"
    }
   ],
   "source": [
    "latitudes"
   ]
  },
  {
   "cell_type": "code",
   "execution_count": 11,
   "id": "ef685910",
   "metadata": {},
   "outputs": [
    {
     "data": {
      "text/plain": [
       "-29"
      ]
     },
     "execution_count": 11,
     "metadata": {},
     "output_type": "execute_result"
    }
   ],
   "source": [
    "random.randrange(-90, 90, step=1)"
   ]
  },
  {
   "cell_type": "code",
   "execution_count": 30,
   "id": "8ab05b4d",
   "metadata": {},
   "outputs": [
    {
     "data": {
      "text/plain": [
       "45"
      ]
     },
     "execution_count": 30,
     "metadata": {},
     "output_type": "execute_result"
    }
   ],
   "source": [
    "random.randrange(-90, 90, step=3)"
   ]
  },
  {
   "cell_type": "code",
   "execution_count": 36,
   "id": "25cd4cdb",
   "metadata": {},
   "outputs": [
    {
     "data": {
      "text/plain": [
       "17.371625181337237"
      ]
     },
     "execution_count": 36,
     "metadata": {},
     "output_type": "execute_result"
    }
   ],
   "source": [
    "random.uniform(-90, 90)"
   ]
  },
  {
   "cell_type": "code",
   "execution_count": 37,
   "id": "8702cce1",
   "metadata": {},
   "outputs": [],
   "source": [
    "# Import the NumPy module.\n",
    "import numpy as np"
   ]
  },
  {
   "cell_type": "code",
   "execution_count": 38,
   "id": "7a6c45f6",
   "metadata": {},
   "outputs": [
    {
     "data": {
      "text/plain": [
       "-15.172744492596763"
      ]
     },
     "execution_count": 38,
     "metadata": {},
     "output_type": "execute_result"
    }
   ],
   "source": [
    "np.random.uniform(-90.000, 90.000)"
   ]
  },
  {
   "cell_type": "code",
   "execution_count": 39,
   "id": "83292e8c",
   "metadata": {},
   "outputs": [
    {
     "data": {
      "text/plain": [
       "array([ 50.91185244,   9.21230331,  88.00311447, -60.0144296 ,\n",
       "        54.89652614,  48.07572806,  33.40178237, -52.14112814,\n",
       "       -39.32697434,  73.01743382,  47.75122915,  11.63021027,\n",
       "        76.35744949, -21.74805007, -88.5463378 , -46.96079979,\n",
       "       -14.61899342,  72.42485375,  81.96382411, -63.5771902 ,\n",
       "        56.88665417,  11.61125953,  17.69121242, -54.97527705,\n",
       "       -41.79451766, -20.46358588,  35.46955121, -37.6197293 ,\n",
       "        30.34643813, -49.89994302,   7.68468712, -11.58341375,\n",
       "       -15.24698789, -52.25917216,  17.63194193,  18.58910667,\n",
       "        15.03574504,  27.34254189,  35.14601827,  85.92952357,\n",
       "        82.05670699,  -0.19225381,   3.59107109,  46.6505866 ,\n",
       "         0.1565305 ,  28.9329529 , -69.44326446, -13.94097875,\n",
       "        -3.16287658, -73.44031258])"
      ]
     },
     "execution_count": 39,
     "metadata": {},
     "output_type": "execute_result"
    }
   ],
   "source": [
    "np.random.uniform(-90.000, 90.000, size=50)"
   ]
  },
  {
   "cell_type": "code",
   "execution_count": 40,
   "id": "e6a812c7",
   "metadata": {},
   "outputs": [],
   "source": [
    "# Import timeit.\n",
    "import timeit"
   ]
  },
  {
   "cell_type": "code",
   "execution_count": 41,
   "id": "1ea7724d",
   "metadata": {},
   "outputs": [
    {
     "name": "stdout",
     "output_type": "stream",
     "text": [
      "12.5 µs ± 13.5 ns per loop (mean ± std. dev. of 7 runs, 100,000 loops each)\n"
     ]
    }
   ],
   "source": [
    "%timeit np.random.uniform(-90.000, 90.000, size=1500)"
   ]
  },
  {
   "cell_type": "code",
   "execution_count": 42,
   "id": "683038a9",
   "metadata": {},
   "outputs": [
    {
     "name": "stdout",
     "output_type": "stream",
     "text": [
      "1.33 ms ± 1.29 µs per loop (mean ± std. dev. of 7 runs, 1,000 loops each)\n"
     ]
    }
   ],
   "source": [
    "def latitudes(size):\n",
    "    latitudes = []\n",
    "    x = 0\n",
    "    while x < (size):\n",
    "        random_lat = random.randint(-90, 90) + random.random()\n",
    "        latitudes.append(random_lat)\n",
    "        x += 1\n",
    "    return latitudes\n",
    "# Call the function with 1500.\n",
    "%timeit latitudes(1500)"
   ]
  },
  {
   "cell_type": "code",
   "execution_count": 43,
   "id": "dcf49d56",
   "metadata": {},
   "outputs": [
    {
     "name": "stdout",
     "output_type": "stream",
     "text": [
      "1.32 ms ± 1.57 µs per loop (mean ± std. dev. of 7 runs, 1,000 loops each)\n"
     ]
    }
   ],
   "source": [
    "%timeit latitudes(1500)"
   ]
  },
  {
   "cell_type": "code",
   "execution_count": null,
   "id": "501e95dc",
   "metadata": {},
   "outputs": [],
   "source": []
  }
 ],
 "metadata": {
  "kernelspec": {
   "display_name": "Python 3 (ipykernel)",
   "language": "python",
   "name": "python3"
  },
  "language_info": {
   "codemirror_mode": {
    "name": "ipython",
    "version": 3
   },
   "file_extension": ".py",
   "mimetype": "text/x-python",
   "name": "python",
   "nbconvert_exporter": "python",
   "pygments_lexer": "ipython3",
   "version": "3.9.7"
  }
 },
 "nbformat": 4,
 "nbformat_minor": 5
}
